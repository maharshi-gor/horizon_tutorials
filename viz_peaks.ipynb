{
 "cells": [
  {
   "cell_type": "markdown",
   "metadata": {},
   "source": [
    "## Visualization of Peaks of a 4D image.\n",
    "\n",
    "In this section we would be exploring how can we use the Horizon using python script.\n",
    "\n",
    "Before starting let's make sure we have latest version of dipy and fury."
   ]
  },
  {
   "cell_type": "code",
   "execution_count": 1,
   "metadata": {},
   "outputs": [
    {
     "name": "stdout",
     "output_type": "stream",
     "text": [
      "Requirement already satisfied: dipy in /Users/maharshigor/miniforge3/envs/dipy-tests/lib/python3.9/site-packages (1.9.0)\n",
      "Requirement already satisfied: numpy>=1.22.4 in /Users/maharshigor/miniforge3/envs/dipy-tests/lib/python3.9/site-packages (from dipy) (1.26.4)\n",
      "Requirement already satisfied: scipy>=1.8 in /Users/maharshigor/miniforge3/envs/dipy-tests/lib/python3.9/site-packages (from dipy) (1.12.0)\n",
      "Requirement already satisfied: nibabel>=3.0.0 in /Users/maharshigor/miniforge3/envs/dipy-tests/lib/python3.9/site-packages (from dipy) (5.2.1)\n",
      "Requirement already satisfied: h5py>=3.1.0 in /Users/maharshigor/miniforge3/envs/dipy-tests/lib/python3.9/site-packages (from dipy) (3.10.0)\n",
      "Requirement already satisfied: packaging>=21 in /Users/maharshigor/miniforge3/envs/dipy-tests/lib/python3.9/site-packages (from dipy) (23.2)\n",
      "Requirement already satisfied: tqdm>=4.30.0 in /Users/maharshigor/miniforge3/envs/dipy-tests/lib/python3.9/site-packages (from dipy) (4.66.2)\n",
      "Requirement already satisfied: trx-python>=0.2.9 in /Users/maharshigor/miniforge3/envs/dipy-tests/lib/python3.9/site-packages (from dipy) (0.2.9)\n",
      "Requirement already satisfied: setuptools-scm in /Users/maharshigor/miniforge3/envs/dipy-tests/lib/python3.9/site-packages (from trx-python>=0.2.9->dipy) (8.0.4)\n",
      "Requirement already satisfied: deepdiff in /Users/maharshigor/miniforge3/envs/dipy-tests/lib/python3.9/site-packages (from trx-python>=0.2.9->dipy) (6.7.1)\n",
      "Requirement already satisfied: ordered-set<4.2.0,>=4.0.2 in /Users/maharshigor/miniforge3/envs/dipy-tests/lib/python3.9/site-packages (from deepdiff->trx-python>=0.2.9->dipy) (4.1.0)\n",
      "Requirement already satisfied: setuptools in /Users/maharshigor/miniforge3/envs/dipy-tests/lib/python3.9/site-packages (from setuptools-scm->trx-python>=0.2.9->dipy) (69.1.1)\n",
      "Requirement already satisfied: typing-extensions in /Users/maharshigor/miniforge3/envs/dipy-tests/lib/python3.9/site-packages (from setuptools-scm->trx-python>=0.2.9->dipy) (4.10.0)\n",
      "Requirement already satisfied: tomli>=1 in /Users/maharshigor/miniforge3/envs/dipy-tests/lib/python3.9/site-packages (from setuptools-scm->trx-python>=0.2.9->dipy) (2.0.1)\n",
      "Note: you may need to restart the kernel to use updated packages.\n",
      "Requirement already satisfied: fury in /Users/maharshigor/miniforge3/envs/dipy-tests/lib/python3.9/site-packages (0.10.0)\n",
      "Requirement already satisfied: aiohttp>=3.8.4 in /Users/maharshigor/miniforge3/envs/dipy-tests/lib/python3.9/site-packages (from fury) (3.9.3)\n",
      "Requirement already satisfied: numpy>=1.15 in /Users/maharshigor/miniforge3/envs/dipy-tests/lib/python3.9/site-packages (from fury) (1.26.4)\n",
      "Requirement already satisfied: packaging>=17.0 in /Users/maharshigor/miniforge3/envs/dipy-tests/lib/python3.9/site-packages (from fury) (23.2)\n",
      "Requirement already satisfied: pillow>=5.4.1 in /Users/maharshigor/miniforge3/envs/dipy-tests/lib/python3.9/site-packages (from fury) (10.2.0)\n",
      "Requirement already satisfied: pygltflib>=1.15.3 in /Users/maharshigor/miniforge3/envs/dipy-tests/lib/python3.9/site-packages (from fury) (1.16.2)\n",
      "Requirement already satisfied: scipy>=1.0 in /Users/maharshigor/miniforge3/envs/dipy-tests/lib/python3.9/site-packages (from fury) (1.12.0)\n",
      "Requirement already satisfied: vtk>=9.1.0 in /Users/maharshigor/miniforge3/envs/dipy-tests/lib/python3.9/site-packages (from fury) (9.3.0)\n",
      "Requirement already satisfied: aiosignal>=1.1.2 in /Users/maharshigor/miniforge3/envs/dipy-tests/lib/python3.9/site-packages (from aiohttp>=3.8.4->fury) (1.3.1)\n",
      "Requirement already satisfied: attrs>=17.3.0 in /Users/maharshigor/miniforge3/envs/dipy-tests/lib/python3.9/site-packages (from aiohttp>=3.8.4->fury) (23.2.0)\n",
      "Requirement already satisfied: frozenlist>=1.1.1 in /Users/maharshigor/miniforge3/envs/dipy-tests/lib/python3.9/site-packages (from aiohttp>=3.8.4->fury) (1.4.1)\n",
      "Requirement already satisfied: multidict<7.0,>=4.5 in /Users/maharshigor/miniforge3/envs/dipy-tests/lib/python3.9/site-packages (from aiohttp>=3.8.4->fury) (6.0.5)\n",
      "Requirement already satisfied: yarl<2.0,>=1.0 in /Users/maharshigor/miniforge3/envs/dipy-tests/lib/python3.9/site-packages (from aiohttp>=3.8.4->fury) (1.9.4)\n",
      "Requirement already satisfied: async-timeout<5.0,>=4.0 in /Users/maharshigor/miniforge3/envs/dipy-tests/lib/python3.9/site-packages (from aiohttp>=3.8.4->fury) (4.0.3)\n",
      "Requirement already satisfied: dataclasses-json>=0.0.25 in /Users/maharshigor/miniforge3/envs/dipy-tests/lib/python3.9/site-packages (from pygltflib>=1.15.3->fury) (0.6.4)\n",
      "Requirement already satisfied: deprecated in /Users/maharshigor/miniforge3/envs/dipy-tests/lib/python3.9/site-packages (from pygltflib>=1.15.3->fury) (1.2.14)\n",
      "Requirement already satisfied: matplotlib>=2.0.0 in /Users/maharshigor/miniforge3/envs/dipy-tests/lib/python3.9/site-packages (from vtk>=9.1.0->fury) (3.8.3)\n",
      "Requirement already satisfied: marshmallow<4.0.0,>=3.18.0 in /Users/maharshigor/miniforge3/envs/dipy-tests/lib/python3.9/site-packages (from dataclasses-json>=0.0.25->pygltflib>=1.15.3->fury) (3.21.1)\n",
      "Requirement already satisfied: typing-inspect<1,>=0.4.0 in /Users/maharshigor/miniforge3/envs/dipy-tests/lib/python3.9/site-packages (from dataclasses-json>=0.0.25->pygltflib>=1.15.3->fury) (0.9.0)\n",
      "Requirement already satisfied: contourpy>=1.0.1 in /Users/maharshigor/miniforge3/envs/dipy-tests/lib/python3.9/site-packages (from matplotlib>=2.0.0->vtk>=9.1.0->fury) (1.2.0)\n",
      "Requirement already satisfied: cycler>=0.10 in /Users/maharshigor/miniforge3/envs/dipy-tests/lib/python3.9/site-packages (from matplotlib>=2.0.0->vtk>=9.1.0->fury) (0.12.1)\n",
      "Requirement already satisfied: fonttools>=4.22.0 in /Users/maharshigor/miniforge3/envs/dipy-tests/lib/python3.9/site-packages (from matplotlib>=2.0.0->vtk>=9.1.0->fury) (4.49.0)\n",
      "Requirement already satisfied: kiwisolver>=1.3.1 in /Users/maharshigor/miniforge3/envs/dipy-tests/lib/python3.9/site-packages (from matplotlib>=2.0.0->vtk>=9.1.0->fury) (1.4.5)\n",
      "Requirement already satisfied: pyparsing>=2.3.1 in /Users/maharshigor/miniforge3/envs/dipy-tests/lib/python3.9/site-packages (from matplotlib>=2.0.0->vtk>=9.1.0->fury) (3.1.2)\n",
      "Requirement already satisfied: python-dateutil>=2.7 in /Users/maharshigor/miniforge3/envs/dipy-tests/lib/python3.9/site-packages (from matplotlib>=2.0.0->vtk>=9.1.0->fury) (2.9.0)\n",
      "Requirement already satisfied: importlib-resources>=3.2.0 in /Users/maharshigor/miniforge3/envs/dipy-tests/lib/python3.9/site-packages (from matplotlib>=2.0.0->vtk>=9.1.0->fury) (6.1.3)\n",
      "Requirement already satisfied: idna>=2.0 in /Users/maharshigor/miniforge3/envs/dipy-tests/lib/python3.9/site-packages (from yarl<2.0,>=1.0->aiohttp>=3.8.4->fury) (3.6)\n",
      "Requirement already satisfied: wrapt<2,>=1.10 in /Users/maharshigor/miniforge3/envs/dipy-tests/lib/python3.9/site-packages (from deprecated->pygltflib>=1.15.3->fury) (1.16.0)\n",
      "Requirement already satisfied: zipp>=3.1.0 in /Users/maharshigor/miniforge3/envs/dipy-tests/lib/python3.9/site-packages (from importlib-resources>=3.2.0->matplotlib>=2.0.0->vtk>=9.1.0->fury) (3.17.0)\n",
      "Requirement already satisfied: six>=1.5 in /Users/maharshigor/miniforge3/envs/dipy-tests/lib/python3.9/site-packages (from python-dateutil>=2.7->matplotlib>=2.0.0->vtk>=9.1.0->fury) (1.16.0)\n",
      "Requirement already satisfied: mypy-extensions>=0.3.0 in /Users/maharshigor/miniforge3/envs/dipy-tests/lib/python3.9/site-packages (from typing-inspect<1,>=0.4.0->dataclasses-json>=0.0.25->pygltflib>=1.15.3->fury) (1.0.0)\n",
      "Requirement already satisfied: typing-extensions>=3.7.4 in /Users/maharshigor/miniforge3/envs/dipy-tests/lib/python3.9/site-packages (from typing-inspect<1,>=0.4.0->dataclasses-json>=0.0.25->pygltflib>=1.15.3->fury) (4.10.0)\n",
      "Note: you may need to restart the kernel to use updated packages.\n"
     ]
    }
   ],
   "source": [
    "%pip install dipy --upgrade\n",
    "%pip install fury --upgrade"
   ]
  },
  {
   "cell_type": "markdown",
   "metadata": {},
   "source": [
    "Let's start by importing a few dipy modules and some widely used modules."
   ]
  },
  {
   "cell_type": "code",
   "execution_count": 2,
   "metadata": {},
   "outputs": [],
   "source": [
    "import os\n",
    "\n",
    "from dipy.data import get_fnames\n",
    "from dipy.data.fetcher import dipy_home\n",
    "from dipy.io.image import load_nifti, load_nifti_data\n",
    "from dipy.io.peaks import load_peaks, save_peaks\n",
    "from dipy.io.gradients import read_bvals_bvecs\n",
    "from dipy.core.gradients import gradient_table\n",
    "from dipy.reconst.shm import CsaOdfModel\n",
    "from dipy.direction import peaks_from_model\n",
    "from dipy.data import get_fnames, default_sphere\n",
    "\n",
    "from dipy.viz import horizon"
   ]
  },
  {
   "cell_type": "markdown",
   "metadata": {},
   "source": [
    "We will be fetching some data in DIPY, but feel free to use your own data."
   ]
  },
  {
   "cell_type": "code",
   "execution_count": 3,
   "metadata": {},
   "outputs": [
    {
     "data": {
      "text/plain": [
       "('/Users/maharshigor/.dipy/stanford_hardi/HARDI150.nii.gz',\n",
       " '/Users/maharshigor/.dipy/stanford_hardi/HARDI150.bval',\n",
       " '/Users/maharshigor/.dipy/stanford_hardi/HARDI150.bvec')"
      ]
     },
     "execution_count": 3,
     "metadata": {},
     "output_type": "execute_result"
    }
   ],
   "source": [
    "data_dir = 'stanford_hardi'\n",
    "hardi_data = get_fnames(data_dir)\n",
    "\n",
    "hardi_data"
   ]
  },
  {
   "cell_type": "code",
   "execution_count": 4,
   "metadata": {},
   "outputs": [],
   "source": [
    "img = hardi_data[0]\n",
    "bval = hardi_data[1]\n",
    "bvec = hardi_data[2]"
   ]
  },
  {
   "cell_type": "markdown",
   "metadata": {},
   "source": [
    "Let's try to read the fetched files\n",
    "\n",
    "Usually this nifti files returns a lot of data from its shape, affine transformation, coordinate systems and other details.\n",
    "\n",
    "Horizon accepts images either as a list of tuples.\n",
    "Ex. `[(data, affine)]` or `[(data, affine, file_name)]`\n",
    "\n",
    "Providing a `file_name` will also help you to identify the name of the file while visualzing it."
   ]
  },
  {
   "cell_type": "code",
   "execution_count": 5,
   "metadata": {},
   "outputs": [],
   "source": [
    "data, affine = load_nifti(img)\n",
    "images=[(data, affine, img)]"
   ]
  },
  {
   "cell_type": "code",
   "execution_count": 6,
   "metadata": {},
   "outputs": [],
   "source": [
    "label_fname = get_fnames('stanford_labels')\n",
    "labels = load_nifti_data(label_fname)\n",
    "\n",
    "white_matter = (labels == 1) | (labels == 2)"
   ]
  },
  {
   "cell_type": "code",
   "execution_count": 7,
   "metadata": {},
   "outputs": [],
   "source": [
    "def get_whole_brain_peaks(\n",
    "    img_data, img_affine, bval_fname, bvec_fname, mask=None):\n",
    "    peaks_fname = os.path.join(dipy_home, data_dir, 'peaks.pam5')\n",
    "    if os.path.isfile(peaks_fname):\n",
    "        print(f'Loading: {peaks_fname}')\n",
    "        peaks = load_peaks(peaks_fname, verbose=False)\n",
    "    else:\n",
    "        bvals, bvecs = read_bvals_bvecs(bval_fname, bvec_fname)\n",
    "        gatb = gradient_table(bvals, bvecs=bvecs)\n",
    "        sh_order = 8\n",
    "        model = CsaOdfModel(gatb, sh_order)\n",
    "        print('Calculating peaks...')\n",
    "        peaks = peaks_from_model(\n",
    "            model, img_data, default_sphere, relative_peak_threshold=.5, \n",
    "            min_separation_angle=25, mask=mask, sh_order=sh_order, normalize_peaks=True,\n",
    "            parallel=False, num_processes=None)\n",
    "        peaks.affine = img_affine\n",
    "        print(f'Saving: {peaks_fname}')\n",
    "        save_peaks(peaks_fname, peaks, affine=img_affine, verbose=True)\n",
    "    return peaks"
   ]
  },
  {
   "cell_type": "code",
   "execution_count": 8,
   "metadata": {},
   "outputs": [
    {
     "name": "stdout",
     "output_type": "stream",
     "text": [
      "Loading: /Users/maharshigor/.dipy/stanford_hardi/peaks.pam5\n"
     ]
    }
   ],
   "source": [
    "peaks = get_whole_brain_peaks(data, affine, bval, bvec, mask=white_matter)"
   ]
  },
  {
   "cell_type": "markdown",
   "metadata": {},
   "source": [
    "Once we read the files, the last step is to invoke the horizon with prepared data.\n",
    "\n",
    "**Note for macOS users**\n",
    "\n",
    "Please do not close the horizon window using close button if you are working with jupyter notebooks. Just stop the cell using stop the execution of the cell."
   ]
  },
  {
   "cell_type": "code",
   "execution_count": null,
   "metadata": {},
   "outputs": [
    {
     "name": "stderr",
     "output_type": "stream",
     "text": [
      "/Users/maharshigor/miniforge3/envs/dipy-tests/lib/python3.9/site-packages/dipy/viz/horizon/util.py:61: UserWarning: int16 is not supported, falling back to int32\n",
      "  warnings.warn(msg.format(data.dtype))\n"
     ]
    },
    {
     "name": "stdout",
     "output_type": "stream",
     "text": [
      "Original shape: (81, 106, 76, 160)\n",
      "Resized to RAS shape: (81, 106, 76, 160)\n"
     ]
    }
   ],
   "source": [
    "horizon(images=images, pams=[peaks], world_coords=False)"
   ]
  },
  {
   "cell_type": "code",
   "execution_count": null,
   "metadata": {},
   "outputs": [],
   "source": []
  }
 ],
 "metadata": {
  "kernelspec": {
   "display_name": "Python 3 (ipykernel)",
   "language": "python",
   "name": "python3"
  },
  "language_info": {
   "codemirror_mode": {
    "name": "ipython",
    "version": 3
   },
   "file_extension": ".py",
   "mimetype": "text/x-python",
   "name": "python",
   "nbconvert_exporter": "python",
   "pygments_lexer": "ipython3",
   "version": "3.9.18"
  }
 },
 "nbformat": 4,
 "nbformat_minor": 4
}
