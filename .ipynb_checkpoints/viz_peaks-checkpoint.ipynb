{
 "cells": [
  {
   "cell_type": "markdown",
   "metadata": {},
   "source": [
    "## Visualization of Peaks of a 4D image.\n",
    "\n",
    "In this section we would be exploring how can we use the Horizon using python script.\n",
    "\n",
    "Before starting let's make sure we have latest version of dipy and fury."
   ]
  },
  {
   "cell_type": "code",
   "execution_count": 1,
   "metadata": {},
   "outputs": [
    {
     "name": "stdout",
     "output_type": "stream",
     "text": [
      "Requirement already satisfied: dipy in /Users/maharshigor/miniforge3/envs/dipy-tests/lib/python3.9/site-packages (1.9.0)\n",
      "Requirement already satisfied: numpy>=1.22.4 in /Users/maharshigor/miniforge3/envs/dipy-tests/lib/python3.9/site-packages (from dipy) (1.26.4)\n",
      "Requirement already satisfied: scipy>=1.8 in /Users/maharshigor/miniforge3/envs/dipy-tests/lib/python3.9/site-packages (from dipy) (1.12.0)\n",
      "Requirement already satisfied: nibabel>=3.0.0 in /Users/maharshigor/miniforge3/envs/dipy-tests/lib/python3.9/site-packages (from dipy) (5.2.1)\n",
      "Requirement already satisfied: h5py>=3.1.0 in /Users/maharshigor/miniforge3/envs/dipy-tests/lib/python3.9/site-packages (from dipy) (3.10.0)\n",
      "Requirement already satisfied: packaging>=21 in /Users/maharshigor/miniforge3/envs/dipy-tests/lib/python3.9/site-packages (from dipy) (23.2)\n",
      "Requirement already satisfied: tqdm>=4.30.0 in /Users/maharshigor/miniforge3/envs/dipy-tests/lib/python3.9/site-packages (from dipy) (4.66.2)\n",
      "Requirement already satisfied: trx-python>=0.2.9 in /Users/maharshigor/miniforge3/envs/dipy-tests/lib/python3.9/site-packages (from dipy) (0.2.9)\n",
      "Requirement already satisfied: setuptools-scm in /Users/maharshigor/miniforge3/envs/dipy-tests/lib/python3.9/site-packages (from trx-python>=0.2.9->dipy) (8.0.4)\n",
      "Requirement already satisfied: deepdiff in /Users/maharshigor/miniforge3/envs/dipy-tests/lib/python3.9/site-packages (from trx-python>=0.2.9->dipy) (6.7.1)\n",
      "Requirement already satisfied: ordered-set<4.2.0,>=4.0.2 in /Users/maharshigor/miniforge3/envs/dipy-tests/lib/python3.9/site-packages (from deepdiff->trx-python>=0.2.9->dipy) (4.1.0)\n",
      "Requirement already satisfied: setuptools in /Users/maharshigor/miniforge3/envs/dipy-tests/lib/python3.9/site-packages (from setuptools-scm->trx-python>=0.2.9->dipy) (69.1.1)\n",
      "Requirement already satisfied: typing-extensions in /Users/maharshigor/miniforge3/envs/dipy-tests/lib/python3.9/site-packages (from setuptools-scm->trx-python>=0.2.9->dipy) (4.10.0)\n",
      "Requirement already satisfied: tomli>=1 in /Users/maharshigor/miniforge3/envs/dipy-tests/lib/python3.9/site-packages (from setuptools-scm->trx-python>=0.2.9->dipy) (2.0.1)\n",
      "Note: you may need to restart the kernel to use updated packages.\n",
      "Requirement already satisfied: fury in /Users/maharshigor/miniforge3/envs/dipy-tests/lib/python3.9/site-packages (0.10.0)\n",
      "Requirement already satisfied: aiohttp>=3.8.4 in /Users/maharshigor/miniforge3/envs/dipy-tests/lib/python3.9/site-packages (from fury) (3.9.3)\n",
      "Requirement already satisfied: numpy>=1.15 in /Users/maharshigor/miniforge3/envs/dipy-tests/lib/python3.9/site-packages (from fury) (1.26.4)\n",
      "Requirement already satisfied: packaging>=17.0 in /Users/maharshigor/miniforge3/envs/dipy-tests/lib/python3.9/site-packages (from fury) (23.2)\n",
      "Requirement already satisfied: pillow>=5.4.1 in /Users/maharshigor/miniforge3/envs/dipy-tests/lib/python3.9/site-packages (from fury) (10.2.0)\n",
      "Requirement already satisfied: pygltflib>=1.15.3 in /Users/maharshigor/miniforge3/envs/dipy-tests/lib/python3.9/site-packages (from fury) (1.16.2)\n",
      "Requirement already satisfied: scipy>=1.0 in /Users/maharshigor/miniforge3/envs/dipy-tests/lib/python3.9/site-packages (from fury) (1.12.0)\n",
      "Requirement already satisfied: vtk>=9.1.0 in /Users/maharshigor/miniforge3/envs/dipy-tests/lib/python3.9/site-packages (from fury) (9.3.0)\n",
      "Requirement already satisfied: aiosignal>=1.1.2 in /Users/maharshigor/miniforge3/envs/dipy-tests/lib/python3.9/site-packages (from aiohttp>=3.8.4->fury) (1.3.1)\n",
      "Requirement already satisfied: attrs>=17.3.0 in /Users/maharshigor/miniforge3/envs/dipy-tests/lib/python3.9/site-packages (from aiohttp>=3.8.4->fury) (23.2.0)\n",
      "Requirement already satisfied: frozenlist>=1.1.1 in /Users/maharshigor/miniforge3/envs/dipy-tests/lib/python3.9/site-packages (from aiohttp>=3.8.4->fury) (1.4.1)\n",
      "Requirement already satisfied: multidict<7.0,>=4.5 in /Users/maharshigor/miniforge3/envs/dipy-tests/lib/python3.9/site-packages (from aiohttp>=3.8.4->fury) (6.0.5)\n",
      "Requirement already satisfied: yarl<2.0,>=1.0 in /Users/maharshigor/miniforge3/envs/dipy-tests/lib/python3.9/site-packages (from aiohttp>=3.8.4->fury) (1.9.4)\n",
      "Requirement already satisfied: async-timeout<5.0,>=4.0 in /Users/maharshigor/miniforge3/envs/dipy-tests/lib/python3.9/site-packages (from aiohttp>=3.8.4->fury) (4.0.3)\n",
      "Requirement already satisfied: dataclasses-json>=0.0.25 in /Users/maharshigor/miniforge3/envs/dipy-tests/lib/python3.9/site-packages (from pygltflib>=1.15.3->fury) (0.6.4)\n",
      "Requirement already satisfied: deprecated in /Users/maharshigor/miniforge3/envs/dipy-tests/lib/python3.9/site-packages (from pygltflib>=1.15.3->fury) (1.2.14)\n",
      "Requirement already satisfied: matplotlib>=2.0.0 in /Users/maharshigor/miniforge3/envs/dipy-tests/lib/python3.9/site-packages (from vtk>=9.1.0->fury) (3.8.3)\n",
      "Requirement already satisfied: marshmallow<4.0.0,>=3.18.0 in /Users/maharshigor/miniforge3/envs/dipy-tests/lib/python3.9/site-packages (from dataclasses-json>=0.0.25->pygltflib>=1.15.3->fury) (3.21.1)\n",
      "Requirement already satisfied: typing-inspect<1,>=0.4.0 in /Users/maharshigor/miniforge3/envs/dipy-tests/lib/python3.9/site-packages (from dataclasses-json>=0.0.25->pygltflib>=1.15.3->fury) (0.9.0)\n",
      "Requirement already satisfied: contourpy>=1.0.1 in /Users/maharshigor/miniforge3/envs/dipy-tests/lib/python3.9/site-packages (from matplotlib>=2.0.0->vtk>=9.1.0->fury) (1.2.0)\n",
      "Requirement already satisfied: cycler>=0.10 in /Users/maharshigor/miniforge3/envs/dipy-tests/lib/python3.9/site-packages (from matplotlib>=2.0.0->vtk>=9.1.0->fury) (0.12.1)\n",
      "Requirement already satisfied: fonttools>=4.22.0 in /Users/maharshigor/miniforge3/envs/dipy-tests/lib/python3.9/site-packages (from matplotlib>=2.0.0->vtk>=9.1.0->fury) (4.49.0)\n",
      "Requirement already satisfied: kiwisolver>=1.3.1 in /Users/maharshigor/miniforge3/envs/dipy-tests/lib/python3.9/site-packages (from matplotlib>=2.0.0->vtk>=9.1.0->fury) (1.4.5)\n",
      "Requirement already satisfied: pyparsing>=2.3.1 in /Users/maharshigor/miniforge3/envs/dipy-tests/lib/python3.9/site-packages (from matplotlib>=2.0.0->vtk>=9.1.0->fury) (3.1.2)\n",
      "Requirement already satisfied: python-dateutil>=2.7 in /Users/maharshigor/miniforge3/envs/dipy-tests/lib/python3.9/site-packages (from matplotlib>=2.0.0->vtk>=9.1.0->fury) (2.9.0)\n",
      "Requirement already satisfied: importlib-resources>=3.2.0 in /Users/maharshigor/miniforge3/envs/dipy-tests/lib/python3.9/site-packages (from matplotlib>=2.0.0->vtk>=9.1.0->fury) (6.1.3)\n",
      "Requirement already satisfied: idna>=2.0 in /Users/maharshigor/miniforge3/envs/dipy-tests/lib/python3.9/site-packages (from yarl<2.0,>=1.0->aiohttp>=3.8.4->fury) (3.6)\n",
      "Requirement already satisfied: wrapt<2,>=1.10 in /Users/maharshigor/miniforge3/envs/dipy-tests/lib/python3.9/site-packages (from deprecated->pygltflib>=1.15.3->fury) (1.16.0)\n",
      "Requirement already satisfied: zipp>=3.1.0 in /Users/maharshigor/miniforge3/envs/dipy-tests/lib/python3.9/site-packages (from importlib-resources>=3.2.0->matplotlib>=2.0.0->vtk>=9.1.0->fury) (3.17.0)\n",
      "Requirement already satisfied: six>=1.5 in /Users/maharshigor/miniforge3/envs/dipy-tests/lib/python3.9/site-packages (from python-dateutil>=2.7->matplotlib>=2.0.0->vtk>=9.1.0->fury) (1.16.0)\n",
      "Requirement already satisfied: mypy-extensions>=0.3.0 in /Users/maharshigor/miniforge3/envs/dipy-tests/lib/python3.9/site-packages (from typing-inspect<1,>=0.4.0->dataclasses-json>=0.0.25->pygltflib>=1.15.3->fury) (1.0.0)\n",
      "Requirement already satisfied: typing-extensions>=3.7.4 in /Users/maharshigor/miniforge3/envs/dipy-tests/lib/python3.9/site-packages (from typing-inspect<1,>=0.4.0->dataclasses-json>=0.0.25->pygltflib>=1.15.3->fury) (4.10.0)\n",
      "Note: you may need to restart the kernel to use updated packages.\n"
     ]
    }
   ],
   "source": [
    "%pip install dipy --upgrade\n",
    "%pip install fury --upgrade"
   ]
  },
  {
   "cell_type": "markdown",
   "metadata": {},
   "source": [
    "Let's start by importing a few dipy modules and some widely used modules."
   ]
  },
  {
   "cell_type": "code",
   "execution_count": 1,
   "metadata": {},
   "outputs": [
    {
     "name": "stderr",
     "output_type": "stream",
     "text": [
      "/Users/maharshigor/miniforge3/envs/dipy-tests/lib/python3.9/site-packages/tqdm/auto.py:21: TqdmWarning: IProgress not found. Please update jupyter and ipywidgets. See https://ipywidgets.readthedocs.io/en/stable/user_install.html\n",
      "  from .autonotebook import tqdm as notebook_tqdm\n"
     ]
    }
   ],
   "source": [
    "import os\n",
    "\n",
    "from dipy.data import get_fnames\n",
    "from dipy.data.fetcher import dipy_home\n",
    "from dipy.io.image import load_nifti, load_nifti_data\n",
    "from dipy.io.peaks import load_peaks, save_peaks\n",
    "from dipy.io.gradients import read_bvals_bvecs\n",
    "from dipy.core.gradients import gradient_table\n",
    "from dipy.reconst.shm import CsaOdfModel\n",
    "from dipy.direction import peaks_from_model\n",
    "from dipy.data import get_fnames, default_sphere\n",
    "\n",
    "from dipy.viz import horizon"
   ]
  },
  {
   "cell_type": "markdown",
   "metadata": {},
   "source": [
    "We will be fetching some data in DIPY, but feel free to use your own data."
   ]
  },
  {
   "cell_type": "code",
   "execution_count": 2,
   "metadata": {},
   "outputs": [
    {
     "data": {
      "text/plain": [
       "('/Users/maharshigor/.dipy/stanford_hardi/HARDI150.nii.gz',\n",
       " '/Users/maharshigor/.dipy/stanford_hardi/HARDI150.bval',\n",
       " '/Users/maharshigor/.dipy/stanford_hardi/HARDI150.bvec')"
      ]
     },
     "execution_count": 2,
     "metadata": {},
     "output_type": "execute_result"
    }
   ],
   "source": [
    "data_dir = 'stanford_hardi'\n",
    "hardi_data = get_fnames(data_dir)\n",
    "\n",
    "hardi_data"
   ]
  },
  {
   "cell_type": "code",
   "execution_count": 3,
   "metadata": {},
   "outputs": [],
   "source": [
    "img = hardi_data[0]\n",
    "bval = hardi_data[1]\n",
    "bvec = hardi_data[2]"
   ]
  },
  {
   "cell_type": "markdown",
   "metadata": {},
   "source": [
    "Let's try to read the fetched files\n",
    "\n",
    "Usually this nifti files returns a lot of data from its shape, affine transformation, coordinate systems and other details.\n",
    "\n",
    "Horizon accepts images either as a list of tuples.\n",
    "Ex. `[(data, affine)]` or `[(data, affine, file_name)]`\n",
    "\n",
    "Providing a `file_name` will also help you to identify the name of the file while visualzing it."
   ]
  },
  {
   "cell_type": "code",
   "execution_count": 4,
   "metadata": {},
   "outputs": [],
   "source": [
    "data, affine = load_nifti(img)\n",
    "images=[(data, affine, img)]"
   ]
  },
  {
   "cell_type": "code",
   "execution_count": 5,
   "metadata": {},
   "outputs": [],
   "source": [
    "label_fname = get_fnames('stanford_labels')\n",
    "labels = load_nifti_data(label_fname)\n",
    "\n",
    "white_matter = (labels == 1) | (labels == 2)"
   ]
  },
  {
   "cell_type": "code",
   "execution_count": 6,
   "metadata": {},
   "outputs": [],
   "source": [
    "def get_whole_brain_peaks(\n",
    "    img_data, img_affine, bval_fname, bvec_fname, mask=None):\n",
    "    peaks_fname = os.path.join(dipy_home, data_dir, 'peaks.pam5')\n",
    "    if os.path.isfile(peaks_fname):\n",
    "        print(f'Loading: {peaks_fname}')\n",
    "        peaks = load_peaks(peaks_fname, verbose=False)\n",
    "    else:\n",
    "        bvals, bvecs = read_bvals_bvecs(bval_fname, bvec_fname)\n",
    "        gatb = gradient_table(bvals, bvecs=bvecs)\n",
    "        sh_order = 6\n",
    "        model = CsaOdfModel(gatb, sh_order)\n",
    "        relative_peak_threshold = .8\n",
    "        min_separation_angle = 45\n",
    "        print('Calculating peaks...')\n",
    "        peaks = peaks_from_model(\n",
    "            model, img_data, default_sphere, relative_peak_threshold,\n",
    "            min_separation_angle, mask=mask, normalize_peaks=True,\n",
    "            parallel=True, num_processes=-1)\n",
    "        peaks.affine = img_affine\n",
    "        print(f'Saving: {peaks_fname}')\n",
    "        save_peaks(peaks_fname, peaks, affine=img_affine, verbose=True)\n",
    "    return peaks"
   ]
  },
  {
   "cell_type": "code",
   "execution_count": 7,
   "metadata": {},
   "outputs": [
    {
     "name": "stdout",
     "output_type": "stream",
     "text": [
      "Calculating peaks...\n"
     ]
    },
    {
     "ename": "KeyboardInterrupt",
     "evalue": "",
     "output_type": "error",
     "traceback": [
      "\u001b[0;31m---------------------------------------------------------------------------\u001b[0m",
      "\u001b[0;31mKeyboardInterrupt\u001b[0m                         Traceback (most recent call last)",
      "Cell \u001b[0;32mIn[7], line 1\u001b[0m\n\u001b[0;32m----> 1\u001b[0m peaks \u001b[38;5;241m=\u001b[39m \u001b[43mget_whole_brain_peaks\u001b[49m\u001b[43m(\u001b[49m\u001b[43mdata\u001b[49m\u001b[43m,\u001b[49m\u001b[43m \u001b[49m\u001b[43maffine\u001b[49m\u001b[43m,\u001b[49m\u001b[43m \u001b[49m\u001b[43mbval\u001b[49m\u001b[43m,\u001b[49m\u001b[43m \u001b[49m\u001b[43mbvec\u001b[49m\u001b[43m,\u001b[49m\u001b[43m \u001b[49m\u001b[43mmask\u001b[49m\u001b[38;5;241;43m=\u001b[39;49m\u001b[43mwhite_matter\u001b[49m\u001b[43m)\u001b[49m\n",
      "Cell \u001b[0;32mIn[6], line 15\u001b[0m, in \u001b[0;36mget_whole_brain_peaks\u001b[0;34m(img_data, img_affine, bval_fname, bvec_fname, mask)\u001b[0m\n\u001b[1;32m     13\u001b[0m min_separation_angle \u001b[38;5;241m=\u001b[39m \u001b[38;5;241m45\u001b[39m\n\u001b[1;32m     14\u001b[0m \u001b[38;5;28mprint\u001b[39m(\u001b[38;5;124m'\u001b[39m\u001b[38;5;124mCalculating peaks...\u001b[39m\u001b[38;5;124m'\u001b[39m)\n\u001b[0;32m---> 15\u001b[0m peaks \u001b[38;5;241m=\u001b[39m \u001b[43mpeaks_from_model\u001b[49m\u001b[43m(\u001b[49m\n\u001b[1;32m     16\u001b[0m \u001b[43m    \u001b[49m\u001b[43mmodel\u001b[49m\u001b[43m,\u001b[49m\u001b[43m \u001b[49m\u001b[43mimg_data\u001b[49m\u001b[43m,\u001b[49m\u001b[43m \u001b[49m\u001b[43mdefault_sphere\u001b[49m\u001b[43m,\u001b[49m\u001b[43m \u001b[49m\u001b[43mrelative_peak_threshold\u001b[49m\u001b[43m,\u001b[49m\n\u001b[1;32m     17\u001b[0m \u001b[43m    \u001b[49m\u001b[43mmin_separation_angle\u001b[49m\u001b[43m,\u001b[49m\u001b[43m \u001b[49m\u001b[43mmask\u001b[49m\u001b[38;5;241;43m=\u001b[39;49m\u001b[43mmask\u001b[49m\u001b[43m,\u001b[49m\u001b[43m \u001b[49m\u001b[43mnormalize_peaks\u001b[49m\u001b[38;5;241;43m=\u001b[39;49m\u001b[38;5;28;43;01mTrue\u001b[39;49;00m\u001b[43m,\u001b[49m\n\u001b[1;32m     18\u001b[0m \u001b[43m    \u001b[49m\u001b[43mparallel\u001b[49m\u001b[38;5;241;43m=\u001b[39;49m\u001b[38;5;28;43;01mTrue\u001b[39;49;00m\u001b[43m,\u001b[49m\u001b[43m \u001b[49m\u001b[43mnum_processes\u001b[49m\u001b[38;5;241;43m=\u001b[39;49m\u001b[38;5;241;43m-\u001b[39;49m\u001b[38;5;241;43m1\u001b[39;49m\u001b[43m)\u001b[49m\n\u001b[1;32m     19\u001b[0m peaks\u001b[38;5;241m.\u001b[39maffine \u001b[38;5;241m=\u001b[39m img_affine\n\u001b[1;32m     20\u001b[0m \u001b[38;5;28mprint\u001b[39m(\u001b[38;5;124mf\u001b[39m\u001b[38;5;124m'\u001b[39m\u001b[38;5;124mSaving: \u001b[39m\u001b[38;5;132;01m{\u001b[39;00mpeaks_fname\u001b[38;5;132;01m}\u001b[39;00m\u001b[38;5;124m'\u001b[39m)\n",
      "File \u001b[0;32m~/miniforge3/envs/dipy-tests/lib/python3.9/site-packages/dipy/utils/deprecator.py:408\u001b[0m, in \u001b[0;36mdeprecated_params.<locals>.deprecator.<locals>.wrapper\u001b[0;34m(*args, **kwargs)\u001b[0m\n\u001b[1;32m    404\u001b[0m             \u001b[38;5;28;01mraise\u001b[39;00m error_class(message)\n\u001b[1;32m    406\u001b[0m         warnings\u001b[38;5;241m.\u001b[39mwarn(message, warn_class, stacklevel\u001b[38;5;241m=\u001b[39m\u001b[38;5;241m2\u001b[39m)\n\u001b[0;32m--> 408\u001b[0m \u001b[38;5;28;01mreturn\u001b[39;00m \u001b[43mfunction\u001b[49m\u001b[43m(\u001b[49m\u001b[38;5;241;43m*\u001b[39;49m\u001b[43margs\u001b[49m\u001b[43m,\u001b[49m\u001b[43m \u001b[49m\u001b[38;5;241;43m*\u001b[39;49m\u001b[38;5;241;43m*\u001b[39;49m\u001b[43mkwargs\u001b[49m\u001b[43m)\u001b[49m\n",
      "File \u001b[0;32m~/miniforge3/envs/dipy-tests/lib/python3.9/site-packages/dipy/direction/peaks.py:466\u001b[0m, in \u001b[0;36mpeaks_from_model\u001b[0;34m(model, data, sphere, relative_peak_threshold, min_separation_angle, mask, return_odf, return_sh, gfa_thr, normalize_peaks, sh_order_max, sh_basis_type, legacy, npeaks, B, invB, parallel, num_processes)\u001b[0m\n\u001b[1;32m    459\u001b[0m num_processes \u001b[38;5;241m=\u001b[39m determine_num_processes(num_processes)\n\u001b[1;32m    461\u001b[0m \u001b[38;5;28;01mif\u001b[39;00m parallel \u001b[38;5;129;01mand\u001b[39;00m num_processes \u001b[38;5;241m>\u001b[39m \u001b[38;5;241m1\u001b[39m:\n\u001b[1;32m    462\u001b[0m     \u001b[38;5;66;03m# It is mandatory to provide B and invB to the parallel function.\u001b[39;00m\n\u001b[1;32m    463\u001b[0m     \u001b[38;5;66;03m# Otherwise, a call to np.linalg.pinv is made in a subprocess and\u001b[39;00m\n\u001b[1;32m    464\u001b[0m     \u001b[38;5;66;03m# makes it timeout on some system.\u001b[39;00m\n\u001b[1;32m    465\u001b[0m     \u001b[38;5;66;03m# see https://github.com/dipy/dipy/issues/253 for details\u001b[39;00m\n\u001b[0;32m--> 466\u001b[0m     \u001b[38;5;28;01mreturn\u001b[39;00m \u001b[43m_peaks_from_model_parallel\u001b[49m\u001b[43m(\u001b[49m\u001b[43mmodel\u001b[49m\u001b[43m,\u001b[49m\n\u001b[1;32m    467\u001b[0m \u001b[43m                                      \u001b[49m\u001b[43mdata\u001b[49m\u001b[43m,\u001b[49m\u001b[43m \u001b[49m\u001b[43msphere\u001b[49m\u001b[43m,\u001b[49m\n\u001b[1;32m    468\u001b[0m \u001b[43m                                      \u001b[49m\u001b[43mrelative_peak_threshold\u001b[49m\u001b[43m,\u001b[49m\n\u001b[1;32m    469\u001b[0m \u001b[43m                                      \u001b[49m\u001b[43mmin_separation_angle\u001b[49m\u001b[43m,\u001b[49m\n\u001b[1;32m    470\u001b[0m \u001b[43m                                      \u001b[49m\u001b[43mmask\u001b[49m\u001b[43m,\u001b[49m\u001b[43m \u001b[49m\u001b[43mreturn_odf\u001b[49m\u001b[43m,\u001b[49m\n\u001b[1;32m    471\u001b[0m \u001b[43m                                      \u001b[49m\u001b[43mreturn_sh\u001b[49m\u001b[43m,\u001b[49m\n\u001b[1;32m    472\u001b[0m \u001b[43m                                      \u001b[49m\u001b[43mgfa_thr\u001b[49m\u001b[43m,\u001b[49m\n\u001b[1;32m    473\u001b[0m \u001b[43m                                      \u001b[49m\u001b[43mnormalize_peaks\u001b[49m\u001b[43m,\u001b[49m\n\u001b[1;32m    474\u001b[0m \u001b[43m                                      \u001b[49m\u001b[43msh_order_max\u001b[49m\u001b[43m,\u001b[49m\n\u001b[1;32m    475\u001b[0m \u001b[43m                                      \u001b[49m\u001b[43msh_basis_type\u001b[49m\u001b[43m,\u001b[49m\n\u001b[1;32m    476\u001b[0m \u001b[43m                                      \u001b[49m\u001b[43mlegacy\u001b[49m\u001b[43m,\u001b[49m\n\u001b[1;32m    477\u001b[0m \u001b[43m                                      \u001b[49m\u001b[43mnpeaks\u001b[49m\u001b[43m,\u001b[49m\n\u001b[1;32m    478\u001b[0m \u001b[43m                                      \u001b[49m\u001b[43mB\u001b[49m\u001b[43m,\u001b[49m\n\u001b[1;32m    479\u001b[0m \u001b[43m                                      \u001b[49m\u001b[43minvB\u001b[49m\u001b[43m,\u001b[49m\n\u001b[1;32m    480\u001b[0m \u001b[43m                                      \u001b[49m\u001b[43mnum_processes\u001b[49m\u001b[43m)\u001b[49m\n\u001b[1;32m    482\u001b[0m shape \u001b[38;5;241m=\u001b[39m data\u001b[38;5;241m.\u001b[39mshape[:\u001b[38;5;241m-\u001b[39m\u001b[38;5;241m1\u001b[39m]\n\u001b[1;32m    483\u001b[0m \u001b[38;5;28;01mif\u001b[39;00m mask \u001b[38;5;129;01mis\u001b[39;00m \u001b[38;5;28;01mNone\u001b[39;00m:\n",
      "File \u001b[0;32m~/miniforge3/envs/dipy-tests/lib/python3.9/site-packages/dipy/direction/peaks.py:251\u001b[0m, in \u001b[0;36m_peaks_from_model_parallel\u001b[0;34m(model, data, sphere, relative_peak_threshold, min_separation_angle, mask, return_odf, return_sh, gfa_thr, normalize_peaks, sh_order, sh_basis_type, legacy, npeaks, B, invB, num_processes)\u001b[0m\n\u001b[1;32m    247\u001b[0m     mask_file_name \u001b[38;5;241m=\u001b[39m \u001b[38;5;28;01mNone\u001b[39;00m\n\u001b[1;32m    249\u001b[0m pool \u001b[38;5;241m=\u001b[39m Pool(num_processes)\n\u001b[0;32m--> 251\u001b[0m pam_res \u001b[38;5;241m=\u001b[39m \u001b[43mpool\u001b[49m\u001b[38;5;241;43m.\u001b[39;49m\u001b[43mmap\u001b[49m\u001b[43m(\u001b[49m\u001b[43m_peaks_from_model_parallel_sub\u001b[49m\u001b[43m,\u001b[49m\n\u001b[1;32m    252\u001b[0m \u001b[43m                   \u001b[49m\u001b[38;5;28;43mzip\u001b[39;49m\u001b[43m(\u001b[49m\u001b[43mrepeat\u001b[49m\u001b[43m(\u001b[49m\u001b[43m(\u001b[49m\u001b[43mdata_file_name\u001b[49m\u001b[43m,\u001b[49m\u001b[43m \u001b[49m\u001b[43mmask_file_name\u001b[49m\u001b[43m)\u001b[49m\u001b[43m)\u001b[49m\u001b[43m,\u001b[49m\n\u001b[1;32m    253\u001b[0m \u001b[43m                       \u001b[49m\u001b[43mindices\u001b[49m\u001b[43m,\u001b[49m\n\u001b[1;32m    254\u001b[0m \u001b[43m                       \u001b[49m\u001b[43mrepeat\u001b[49m\u001b[43m(\u001b[49m\u001b[43mmodel\u001b[49m\u001b[43m)\u001b[49m\u001b[43m,\u001b[49m\n\u001b[1;32m    255\u001b[0m \u001b[43m                       \u001b[49m\u001b[43mrepeat\u001b[49m\u001b[43m(\u001b[49m\u001b[43msphere\u001b[49m\u001b[43m)\u001b[49m\u001b[43m,\u001b[49m\n\u001b[1;32m    256\u001b[0m \u001b[43m                       \u001b[49m\u001b[43mrepeat\u001b[49m\u001b[43m(\u001b[49m\u001b[43mrelative_peak_threshold\u001b[49m\u001b[43m)\u001b[49m\u001b[43m,\u001b[49m\n\u001b[1;32m    257\u001b[0m \u001b[43m                       \u001b[49m\u001b[43mrepeat\u001b[49m\u001b[43m(\u001b[49m\u001b[43mmin_separation_angle\u001b[49m\u001b[43m)\u001b[49m\u001b[43m,\u001b[49m\n\u001b[1;32m    258\u001b[0m \u001b[43m                       \u001b[49m\u001b[43mrepeat\u001b[49m\u001b[43m(\u001b[49m\u001b[43mreturn_odf\u001b[49m\u001b[43m)\u001b[49m\u001b[43m,\u001b[49m\n\u001b[1;32m    259\u001b[0m \u001b[43m                       \u001b[49m\u001b[43mrepeat\u001b[49m\u001b[43m(\u001b[49m\u001b[43mreturn_sh\u001b[49m\u001b[43m)\u001b[49m\u001b[43m,\u001b[49m\n\u001b[1;32m    260\u001b[0m \u001b[43m                       \u001b[49m\u001b[43mrepeat\u001b[49m\u001b[43m(\u001b[49m\u001b[43mgfa_thr\u001b[49m\u001b[43m)\u001b[49m\u001b[43m,\u001b[49m\n\u001b[1;32m    261\u001b[0m \u001b[43m                       \u001b[49m\u001b[43mrepeat\u001b[49m\u001b[43m(\u001b[49m\u001b[43mnormalize_peaks\u001b[49m\u001b[43m)\u001b[49m\u001b[43m,\u001b[49m\n\u001b[1;32m    262\u001b[0m \u001b[43m                       \u001b[49m\u001b[43mrepeat\u001b[49m\u001b[43m(\u001b[49m\u001b[43msh_order\u001b[49m\u001b[43m)\u001b[49m\u001b[43m,\u001b[49m\n\u001b[1;32m    263\u001b[0m \u001b[43m                       \u001b[49m\u001b[43mrepeat\u001b[49m\u001b[43m(\u001b[49m\u001b[43msh_basis_type\u001b[49m\u001b[43m)\u001b[49m\u001b[43m,\u001b[49m\n\u001b[1;32m    264\u001b[0m \u001b[43m                       \u001b[49m\u001b[43mrepeat\u001b[49m\u001b[43m(\u001b[49m\u001b[43mlegacy\u001b[49m\u001b[43m)\u001b[49m\u001b[43m,\u001b[49m\n\u001b[1;32m    265\u001b[0m \u001b[43m                       \u001b[49m\u001b[43mrepeat\u001b[49m\u001b[43m(\u001b[49m\u001b[43mnpeaks\u001b[49m\u001b[43m)\u001b[49m\u001b[43m,\u001b[49m\n\u001b[1;32m    266\u001b[0m \u001b[43m                       \u001b[49m\u001b[43mrepeat\u001b[49m\u001b[43m(\u001b[49m\u001b[43mB\u001b[49m\u001b[43m)\u001b[49m\u001b[43m,\u001b[49m\n\u001b[1;32m    267\u001b[0m \u001b[43m                       \u001b[49m\u001b[43mrepeat\u001b[49m\u001b[43m(\u001b[49m\u001b[43minvB\u001b[49m\u001b[43m)\u001b[49m\u001b[43m)\u001b[49m\u001b[43m)\u001b[49m\n\u001b[1;32m    268\u001b[0m pool\u001b[38;5;241m.\u001b[39mclose()\n\u001b[1;32m    270\u001b[0m pam \u001b[38;5;241m=\u001b[39m PeaksAndMetrics()\n",
      "File \u001b[0;32m~/miniforge3/envs/dipy-tests/lib/python3.9/multiprocessing/pool.py:364\u001b[0m, in \u001b[0;36mPool.map\u001b[0;34m(self, func, iterable, chunksize)\u001b[0m\n\u001b[1;32m    359\u001b[0m \u001b[38;5;28;01mdef\u001b[39;00m \u001b[38;5;21mmap\u001b[39m(\u001b[38;5;28mself\u001b[39m, func, iterable, chunksize\u001b[38;5;241m=\u001b[39m\u001b[38;5;28;01mNone\u001b[39;00m):\n\u001b[1;32m    360\u001b[0m \u001b[38;5;250m    \u001b[39m\u001b[38;5;124;03m'''\u001b[39;00m\n\u001b[1;32m    361\u001b[0m \u001b[38;5;124;03m    Apply `func` to each element in `iterable`, collecting the results\u001b[39;00m\n\u001b[1;32m    362\u001b[0m \u001b[38;5;124;03m    in a list that is returned.\u001b[39;00m\n\u001b[1;32m    363\u001b[0m \u001b[38;5;124;03m    '''\u001b[39;00m\n\u001b[0;32m--> 364\u001b[0m     \u001b[38;5;28;01mreturn\u001b[39;00m \u001b[38;5;28;43mself\u001b[39;49m\u001b[38;5;241;43m.\u001b[39;49m\u001b[43m_map_async\u001b[49m\u001b[43m(\u001b[49m\u001b[43mfunc\u001b[49m\u001b[43m,\u001b[49m\u001b[43m \u001b[49m\u001b[43miterable\u001b[49m\u001b[43m,\u001b[49m\u001b[43m \u001b[49m\u001b[43mmapstar\u001b[49m\u001b[43m,\u001b[49m\u001b[43m \u001b[49m\u001b[43mchunksize\u001b[49m\u001b[43m)\u001b[49m\u001b[38;5;241;43m.\u001b[39;49m\u001b[43mget\u001b[49m\u001b[43m(\u001b[49m\u001b[43m)\u001b[49m\n",
      "File \u001b[0;32m~/miniforge3/envs/dipy-tests/lib/python3.9/multiprocessing/pool.py:765\u001b[0m, in \u001b[0;36mApplyResult.get\u001b[0;34m(self, timeout)\u001b[0m\n\u001b[1;32m    764\u001b[0m \u001b[38;5;28;01mdef\u001b[39;00m \u001b[38;5;21mget\u001b[39m(\u001b[38;5;28mself\u001b[39m, timeout\u001b[38;5;241m=\u001b[39m\u001b[38;5;28;01mNone\u001b[39;00m):\n\u001b[0;32m--> 765\u001b[0m     \u001b[38;5;28;43mself\u001b[39;49m\u001b[38;5;241;43m.\u001b[39;49m\u001b[43mwait\u001b[49m\u001b[43m(\u001b[49m\u001b[43mtimeout\u001b[49m\u001b[43m)\u001b[49m\n\u001b[1;32m    766\u001b[0m     \u001b[38;5;28;01mif\u001b[39;00m \u001b[38;5;129;01mnot\u001b[39;00m \u001b[38;5;28mself\u001b[39m\u001b[38;5;241m.\u001b[39mready():\n\u001b[1;32m    767\u001b[0m         \u001b[38;5;28;01mraise\u001b[39;00m \u001b[38;5;167;01mTimeoutError\u001b[39;00m\n",
      "File \u001b[0;32m~/miniforge3/envs/dipy-tests/lib/python3.9/multiprocessing/pool.py:762\u001b[0m, in \u001b[0;36mApplyResult.wait\u001b[0;34m(self, timeout)\u001b[0m\n\u001b[1;32m    761\u001b[0m \u001b[38;5;28;01mdef\u001b[39;00m \u001b[38;5;21mwait\u001b[39m(\u001b[38;5;28mself\u001b[39m, timeout\u001b[38;5;241m=\u001b[39m\u001b[38;5;28;01mNone\u001b[39;00m):\n\u001b[0;32m--> 762\u001b[0m     \u001b[38;5;28;43mself\u001b[39;49m\u001b[38;5;241;43m.\u001b[39;49m\u001b[43m_event\u001b[49m\u001b[38;5;241;43m.\u001b[39;49m\u001b[43mwait\u001b[49m\u001b[43m(\u001b[49m\u001b[43mtimeout\u001b[49m\u001b[43m)\u001b[49m\n",
      "File \u001b[0;32m~/miniforge3/envs/dipy-tests/lib/python3.9/threading.py:581\u001b[0m, in \u001b[0;36mEvent.wait\u001b[0;34m(self, timeout)\u001b[0m\n\u001b[1;32m    579\u001b[0m signaled \u001b[38;5;241m=\u001b[39m \u001b[38;5;28mself\u001b[39m\u001b[38;5;241m.\u001b[39m_flag\n\u001b[1;32m    580\u001b[0m \u001b[38;5;28;01mif\u001b[39;00m \u001b[38;5;129;01mnot\u001b[39;00m signaled:\n\u001b[0;32m--> 581\u001b[0m     signaled \u001b[38;5;241m=\u001b[39m \u001b[38;5;28;43mself\u001b[39;49m\u001b[38;5;241;43m.\u001b[39;49m\u001b[43m_cond\u001b[49m\u001b[38;5;241;43m.\u001b[39;49m\u001b[43mwait\u001b[49m\u001b[43m(\u001b[49m\u001b[43mtimeout\u001b[49m\u001b[43m)\u001b[49m\n\u001b[1;32m    582\u001b[0m \u001b[38;5;28;01mreturn\u001b[39;00m signaled\n",
      "File \u001b[0;32m~/miniforge3/envs/dipy-tests/lib/python3.9/threading.py:312\u001b[0m, in \u001b[0;36mCondition.wait\u001b[0;34m(self, timeout)\u001b[0m\n\u001b[1;32m    310\u001b[0m \u001b[38;5;28;01mtry\u001b[39;00m:    \u001b[38;5;66;03m# restore state no matter what (e.g., KeyboardInterrupt)\u001b[39;00m\n\u001b[1;32m    311\u001b[0m     \u001b[38;5;28;01mif\u001b[39;00m timeout \u001b[38;5;129;01mis\u001b[39;00m \u001b[38;5;28;01mNone\u001b[39;00m:\n\u001b[0;32m--> 312\u001b[0m         \u001b[43mwaiter\u001b[49m\u001b[38;5;241;43m.\u001b[39;49m\u001b[43macquire\u001b[49m\u001b[43m(\u001b[49m\u001b[43m)\u001b[49m\n\u001b[1;32m    313\u001b[0m         gotit \u001b[38;5;241m=\u001b[39m \u001b[38;5;28;01mTrue\u001b[39;00m\n\u001b[1;32m    314\u001b[0m     \u001b[38;5;28;01melse\u001b[39;00m:\n",
      "\u001b[0;31mKeyboardInterrupt\u001b[0m: "
     ]
    }
   ],
   "source": [
    "peaks = get_whole_brain_peaks(data, affine, bval, bvec, mask=white_matter)"
   ]
  },
  {
   "cell_type": "markdown",
   "metadata": {},
   "source": [
    "Once we read the files, the last step is to invoke the horizon with prepared data.\n",
    "\n",
    "**Note for macOS users**\n",
    "\n",
    "Please do not close the horizon window using close button if you are working with jupyter notebooks. Just stop the cell using stop the execution of the cell."
   ]
  },
  {
   "cell_type": "code",
   "execution_count": null,
   "metadata": {},
   "outputs": [
    {
     "ename": "",
     "evalue": "",
     "output_type": "error",
     "traceback": [
      "\u001b[1;31mThe Kernel crashed while executing code in the current cell or a previous cell. \n",
      "\u001b[1;31mPlease review the code in the cell(s) to identify a possible cause of the failure. \n",
      "\u001b[1;31mClick <a href='https://aka.ms/vscodeJupyterKernelCrash'>here</a> for more info. \n",
      "\u001b[1;31mView Jupyter <a href='command:jupyter.viewOutput'>log</a> for further details."
     ]
    }
   ],
   "source": [
    "horizon(images=images, pams=[peaks])"
   ]
  }
 ],
 "metadata": {
  "kernelspec": {
   "display_name": "dipy-tests",
   "language": "python",
   "name": "python3"
  },
  "language_info": {
   "codemirror_mode": {
    "name": "ipython",
    "version": 3
   },
   "file_extension": ".py",
   "mimetype": "text/x-python",
   "name": "python",
   "nbconvert_exporter": "python",
   "pygments_lexer": "ipython3",
   "version": "3.9.18"
  }
 },
 "nbformat": 4,
 "nbformat_minor": 2
}
