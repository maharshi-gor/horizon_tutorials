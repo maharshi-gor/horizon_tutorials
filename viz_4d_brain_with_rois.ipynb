{
 "cells": [
  {
   "cell_type": "markdown",
   "metadata": {},
   "source": [
    "## Visualization of 4D Brain Image ROI using Horizon.\n",
    "\n",
    "In this section we would be exploring how can we use the Horizon using python script.\n",
    "\n",
    "Before starting let's make sure we have latest version of dipy and fury."
   ]
  },
  {
   "cell_type": "code",
   "execution_count": 1,
   "metadata": {},
   "outputs": [
    {
     "name": "stdout",
     "output_type": "stream",
     "text": [
      "Requirement already satisfied: dipy in /Users/maharshigor/miniforge3/envs/dipy-tests/lib/python3.9/site-packages (1.9.0)\n",
      "Requirement already satisfied: numpy>=1.22.4 in /Users/maharshigor/miniforge3/envs/dipy-tests/lib/python3.9/site-packages (from dipy) (1.26.4)\n",
      "Requirement already satisfied: scipy>=1.8 in /Users/maharshigor/miniforge3/envs/dipy-tests/lib/python3.9/site-packages (from dipy) (1.12.0)\n",
      "Requirement already satisfied: nibabel>=3.0.0 in /Users/maharshigor/miniforge3/envs/dipy-tests/lib/python3.9/site-packages (from dipy) (5.2.1)\n",
      "Requirement already satisfied: h5py>=3.1.0 in /Users/maharshigor/miniforge3/envs/dipy-tests/lib/python3.9/site-packages (from dipy) (3.10.0)\n",
      "Requirement already satisfied: packaging>=21 in /Users/maharshigor/miniforge3/envs/dipy-tests/lib/python3.9/site-packages (from dipy) (23.2)\n",
      "Requirement already satisfied: tqdm>=4.30.0 in /Users/maharshigor/miniforge3/envs/dipy-tests/lib/python3.9/site-packages (from dipy) (4.66.2)\n",
      "Requirement already satisfied: trx-python>=0.2.9 in /Users/maharshigor/miniforge3/envs/dipy-tests/lib/python3.9/site-packages (from dipy) (0.2.9)\n",
      "Requirement already satisfied: setuptools-scm in /Users/maharshigor/miniforge3/envs/dipy-tests/lib/python3.9/site-packages (from trx-python>=0.2.9->dipy) (8.0.4)\n",
      "Requirement already satisfied: deepdiff in /Users/maharshigor/miniforge3/envs/dipy-tests/lib/python3.9/site-packages (from trx-python>=0.2.9->dipy) (6.7.1)\n",
      "Requirement already satisfied: ordered-set<4.2.0,>=4.0.2 in /Users/maharshigor/miniforge3/envs/dipy-tests/lib/python3.9/site-packages (from deepdiff->trx-python>=0.2.9->dipy) (4.1.0)\n",
      "Requirement already satisfied: setuptools in /Users/maharshigor/miniforge3/envs/dipy-tests/lib/python3.9/site-packages (from setuptools-scm->trx-python>=0.2.9->dipy) (69.1.1)\n",
      "Requirement already satisfied: typing-extensions in /Users/maharshigor/miniforge3/envs/dipy-tests/lib/python3.9/site-packages (from setuptools-scm->trx-python>=0.2.9->dipy) (4.10.0)\n",
      "Requirement already satisfied: tomli>=1 in /Users/maharshigor/miniforge3/envs/dipy-tests/lib/python3.9/site-packages (from setuptools-scm->trx-python>=0.2.9->dipy) (2.0.1)\n",
      "Note: you may need to restart the kernel to use updated packages.\n",
      "Requirement already satisfied: fury in /Users/maharshigor/miniforge3/envs/dipy-tests/lib/python3.9/site-packages (0.10.0)\n",
      "Requirement already satisfied: aiohttp>=3.8.4 in /Users/maharshigor/miniforge3/envs/dipy-tests/lib/python3.9/site-packages (from fury) (3.9.3)\n",
      "Requirement already satisfied: numpy>=1.15 in /Users/maharshigor/miniforge3/envs/dipy-tests/lib/python3.9/site-packages (from fury) (1.26.4)\n",
      "Requirement already satisfied: packaging>=17.0 in /Users/maharshigor/miniforge3/envs/dipy-tests/lib/python3.9/site-packages (from fury) (23.2)\n",
      "Requirement already satisfied: pillow>=5.4.1 in /Users/maharshigor/miniforge3/envs/dipy-tests/lib/python3.9/site-packages (from fury) (10.2.0)\n",
      "Requirement already satisfied: pygltflib>=1.15.3 in /Users/maharshigor/miniforge3/envs/dipy-tests/lib/python3.9/site-packages (from fury) (1.16.2)\n",
      "Requirement already satisfied: scipy>=1.0 in /Users/maharshigor/miniforge3/envs/dipy-tests/lib/python3.9/site-packages (from fury) (1.12.0)\n",
      "Requirement already satisfied: vtk>=9.1.0 in /Users/maharshigor/miniforge3/envs/dipy-tests/lib/python3.9/site-packages (from fury) (9.3.0)\n",
      "Requirement already satisfied: aiosignal>=1.1.2 in /Users/maharshigor/miniforge3/envs/dipy-tests/lib/python3.9/site-packages (from aiohttp>=3.8.4->fury) (1.3.1)\n",
      "Requirement already satisfied: attrs>=17.3.0 in /Users/maharshigor/miniforge3/envs/dipy-tests/lib/python3.9/site-packages (from aiohttp>=3.8.4->fury) (23.2.0)\n",
      "Requirement already satisfied: frozenlist>=1.1.1 in /Users/maharshigor/miniforge3/envs/dipy-tests/lib/python3.9/site-packages (from aiohttp>=3.8.4->fury) (1.4.1)\n",
      "Requirement already satisfied: multidict<7.0,>=4.5 in /Users/maharshigor/miniforge3/envs/dipy-tests/lib/python3.9/site-packages (from aiohttp>=3.8.4->fury) (6.0.5)\n",
      "Requirement already satisfied: yarl<2.0,>=1.0 in /Users/maharshigor/miniforge3/envs/dipy-tests/lib/python3.9/site-packages (from aiohttp>=3.8.4->fury) (1.9.4)\n",
      "Requirement already satisfied: async-timeout<5.0,>=4.0 in /Users/maharshigor/miniforge3/envs/dipy-tests/lib/python3.9/site-packages (from aiohttp>=3.8.4->fury) (4.0.3)\n",
      "Requirement already satisfied: dataclasses-json>=0.0.25 in /Users/maharshigor/miniforge3/envs/dipy-tests/lib/python3.9/site-packages (from pygltflib>=1.15.3->fury) (0.6.4)\n",
      "Requirement already satisfied: deprecated in /Users/maharshigor/miniforge3/envs/dipy-tests/lib/python3.9/site-packages (from pygltflib>=1.15.3->fury) (1.2.14)\n",
      "Requirement already satisfied: matplotlib>=2.0.0 in /Users/maharshigor/miniforge3/envs/dipy-tests/lib/python3.9/site-packages (from vtk>=9.1.0->fury) (3.8.3)\n",
      "Requirement already satisfied: marshmallow<4.0.0,>=3.18.0 in /Users/maharshigor/miniforge3/envs/dipy-tests/lib/python3.9/site-packages (from dataclasses-json>=0.0.25->pygltflib>=1.15.3->fury) (3.21.1)\n",
      "Requirement already satisfied: typing-inspect<1,>=0.4.0 in /Users/maharshigor/miniforge3/envs/dipy-tests/lib/python3.9/site-packages (from dataclasses-json>=0.0.25->pygltflib>=1.15.3->fury) (0.9.0)\n",
      "Requirement already satisfied: contourpy>=1.0.1 in /Users/maharshigor/miniforge3/envs/dipy-tests/lib/python3.9/site-packages (from matplotlib>=2.0.0->vtk>=9.1.0->fury) (1.2.0)\n",
      "Requirement already satisfied: cycler>=0.10 in /Users/maharshigor/miniforge3/envs/dipy-tests/lib/python3.9/site-packages (from matplotlib>=2.0.0->vtk>=9.1.0->fury) (0.12.1)\n",
      "Requirement already satisfied: fonttools>=4.22.0 in /Users/maharshigor/miniforge3/envs/dipy-tests/lib/python3.9/site-packages (from matplotlib>=2.0.0->vtk>=9.1.0->fury) (4.49.0)\n",
      "Requirement already satisfied: kiwisolver>=1.3.1 in /Users/maharshigor/miniforge3/envs/dipy-tests/lib/python3.9/site-packages (from matplotlib>=2.0.0->vtk>=9.1.0->fury) (1.4.5)\n",
      "Requirement already satisfied: pyparsing>=2.3.1 in /Users/maharshigor/miniforge3/envs/dipy-tests/lib/python3.9/site-packages (from matplotlib>=2.0.0->vtk>=9.1.0->fury) (3.1.2)\n",
      "Requirement already satisfied: python-dateutil>=2.7 in /Users/maharshigor/miniforge3/envs/dipy-tests/lib/python3.9/site-packages (from matplotlib>=2.0.0->vtk>=9.1.0->fury) (2.9.0)\n",
      "Requirement already satisfied: importlib-resources>=3.2.0 in /Users/maharshigor/miniforge3/envs/dipy-tests/lib/python3.9/site-packages (from matplotlib>=2.0.0->vtk>=9.1.0->fury) (6.1.3)\n",
      "Requirement already satisfied: idna>=2.0 in /Users/maharshigor/miniforge3/envs/dipy-tests/lib/python3.9/site-packages (from yarl<2.0,>=1.0->aiohttp>=3.8.4->fury) (3.6)\n",
      "Requirement already satisfied: wrapt<2,>=1.10 in /Users/maharshigor/miniforge3/envs/dipy-tests/lib/python3.9/site-packages (from deprecated->pygltflib>=1.15.3->fury) (1.16.0)\n",
      "Requirement already satisfied: zipp>=3.1.0 in /Users/maharshigor/miniforge3/envs/dipy-tests/lib/python3.9/site-packages (from importlib-resources>=3.2.0->matplotlib>=2.0.0->vtk>=9.1.0->fury) (3.17.0)\n",
      "Requirement already satisfied: six>=1.5 in /Users/maharshigor/miniforge3/envs/dipy-tests/lib/python3.9/site-packages (from python-dateutil>=2.7->matplotlib>=2.0.0->vtk>=9.1.0->fury) (1.16.0)\n",
      "Requirement already satisfied: mypy-extensions>=0.3.0 in /Users/maharshigor/miniforge3/envs/dipy-tests/lib/python3.9/site-packages (from typing-inspect<1,>=0.4.0->dataclasses-json>=0.0.25->pygltflib>=1.15.3->fury) (1.0.0)\n",
      "Requirement already satisfied: typing-extensions>=3.7.4 in /Users/maharshigor/miniforge3/envs/dipy-tests/lib/python3.9/site-packages (from typing-inspect<1,>=0.4.0->dataclasses-json>=0.0.25->pygltflib>=1.15.3->fury) (4.10.0)\n",
      "Note: you may need to restart the kernel to use updated packages.\n"
     ]
    }
   ],
   "source": [
    "%pip install dipy --upgrade\n",
    "%pip install fury --upgrade"
   ]
  },
  {
   "cell_type": "markdown",
   "metadata": {},
   "source": [
    "Let's start by importing a few dipy modules and some widely used modules."
   ]
  },
  {
   "cell_type": "code",
   "execution_count": 1,
   "metadata": {},
   "outputs": [
    {
     "name": "stderr",
     "output_type": "stream",
     "text": [
      "/Users/maharshigor/miniforge3/envs/dipy-tests/lib/python3.9/site-packages/tqdm/auto.py:21: TqdmWarning: IProgress not found. Please update jupyter and ipywidgets. See https://ipywidgets.readthedocs.io/en/stable/user_install.html\n",
      "  from .autonotebook import tqdm as notebook_tqdm\n"
     ]
    }
   ],
   "source": [
    "import os\n",
    "\n",
    "import numpy as np\n",
    "\n",
    "from dipy.data import get_fnames\n",
    "from dipy.data.fetcher import dipy_home\n",
    "from dipy.io.image import load_nifti, load_nifti_data, save_nifti\n",
    "from dipy.viz import horizon"
   ]
  },
  {
   "cell_type": "markdown",
   "metadata": {},
   "source": [
    "We will be fetching some data in DIPY, but feel free to use your own data."
   ]
  },
  {
   "cell_type": "code",
   "execution_count": 2,
   "metadata": {},
   "outputs": [
    {
     "data": {
      "text/plain": [
       "('/Users/maharshigor/.dipy/stanford_hardi/HARDI150.nii.gz',\n",
       " '/Users/maharshigor/.dipy/stanford_hardi/HARDI150.bval',\n",
       " '/Users/maharshigor/.dipy/stanford_hardi/HARDI150.bvec')"
      ]
     },
     "execution_count": 2,
     "metadata": {},
     "output_type": "execute_result"
    }
   ],
   "source": [
    "data_dir = 'stanford_hardi'\n",
    "hardi_data = get_fnames(data_dir)\n",
    "\n",
    "hardi_data"
   ]
  },
  {
   "cell_type": "code",
   "execution_count": 3,
   "metadata": {},
   "outputs": [],
   "source": [
    "img = hardi_data[0]\n",
    "bval = hardi_data[1]\n",
    "bvec = hardi_data[2]"
   ]
  },
  {
   "cell_type": "markdown",
   "metadata": {},
   "source": [
    "Let's try to read the fetched files\n",
    "\n",
    "Usually this nifti files returns a lot of data from its shape, affine transformation, coordinate systems and other details.\n",
    "\n",
    "Horizon accepts images either as a list of tuples.\n",
    "Ex. `[(data, affine)]` or `[(data, affine, file_name)]`\n",
    "\n",
    "Providing a `file_name` will also help you to identify the name of the file while visualzing it."
   ]
  },
  {
   "cell_type": "code",
   "execution_count": 4,
   "metadata": {},
   "outputs": [],
   "source": [
    "data, affine = load_nifti(img)"
   ]
  },
  {
   "cell_type": "markdown",
   "metadata": {},
   "source": [
    "Let's bring the region of interests and create a ROI file."
   ]
  },
  {
   "cell_type": "code",
   "execution_count": 5,
   "metadata": {},
   "outputs": [],
   "source": [
    "label_fname = get_fnames('stanford_labels')\n",
    "labels = load_nifti_data(label_fname)"
   ]
  },
  {
   "cell_type": "markdown",
   "metadata": {},
   "source": [
    "Once we bring the labeled data let's fetch the data with `label=2`. Here, we make sure to provide the affine of the data to generate seed mask."
   ]
  },
  {
   "cell_type": "code",
   "execution_count": 6,
   "metadata": {},
   "outputs": [],
   "source": [
    "def get_seed_mask(labels, affine, label_id=2):\n",
    "    seeds_fname = os.path.join(dipy_home, data_dir, 'seeds.nii.gz')\n",
    "    if os.path.isfile(seeds_fname):\n",
    "        print(f'Loading: {seeds_fname}')\n",
    "        seed_mask, _ = load_nifti(seeds_fname)\n",
    "    else:\n",
    "        seed_mask = (labels == label_id)\n",
    "        print(f'Saving: {seeds_fname}')\n",
    "        save_nifti(seeds_fname, np.asarray(seed_mask, dtype=np.int32), affine)\n",
    "    return seed_mask"
   ]
  },
  {
   "cell_type": "code",
   "execution_count": 7,
   "metadata": {},
   "outputs": [
    {
     "name": "stdout",
     "output_type": "stream",
     "text": [
      "Loading: /Users/maharshigor/.dipy/stanford_hardi/seeds.nii.gz\n"
     ]
    },
    {
     "data": {
      "text/plain": [
       "(81, 106, 76)"
      ]
     },
     "execution_count": 7,
     "metadata": {},
     "output_type": "execute_result"
    }
   ],
   "source": [
    "seed_mask = get_seed_mask(labels, affine)\n",
    "seed_mask.shape"
   ]
  },
  {
   "cell_type": "code",
   "execution_count": 8,
   "metadata": {},
   "outputs": [],
   "source": [
    "images = [(seed_mask, affine)]"
   ]
  },
  {
   "cell_type": "markdown",
   "metadata": {},
   "source": [
    "Once we read the files, the last step is to invoke the horizon with prepared data.\n",
    "\n",
    "**Note for macOS users**\n",
    "\n",
    "Please do not close the horizon window using close button if you are working with jupyter notebooks. Just stop the cell using stop the execution of the cell."
   ]
  },
  {
   "cell_type": "code",
   "execution_count": 9,
   "metadata": {},
   "outputs": [
    {
     "ename": "",
     "evalue": "",
     "output_type": "error",
     "traceback": [
      "\u001b[1;31mThe Kernel crashed while executing code in the current cell or a previous cell. \n",
      "\u001b[1;31mPlease review the code in the cell(s) to identify a possible cause of the failure. \n",
      "\u001b[1;31mClick <a href='https://aka.ms/vscodeJupyterKernelCrash'>here</a> for more info. \n",
      "\u001b[1;31mView Jupyter <a href='command:jupyter.viewOutput'>log</a> for further details."
     ]
    }
   ],
   "source": [
    "horizon(images=images, roi_images=True)"
   ]
  }
 ],
 "metadata": {
  "kernelspec": {
   "display_name": "dipy-tests",
   "language": "python",
   "name": "python3"
  },
  "language_info": {
   "codemirror_mode": {
    "name": "ipython",
    "version": 3
   },
   "file_extension": ".py",
   "mimetype": "text/x-python",
   "name": "python",
   "nbconvert_exporter": "python",
   "pygments_lexer": "ipython3",
   "version": "3.9.18"
  }
 },
 "nbformat": 4,
 "nbformat_minor": 2
}
